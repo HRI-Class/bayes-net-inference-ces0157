{
 "cells": [
  {
   "cell_type": "markdown",
   "id": "a6eab71c-00de-41f5-abea-10857fd62ab1",
   "metadata": {
    "deletable": false,
    "editable": false,
    "nbgrader": {
     "cell_type": "markdown",
     "checksum": "cbb442e4fd138283742f58db79c60f81",
     "grade": false,
     "grade_id": "cell-9ef14c54e965c52f",
     "locked": true,
     "schema_version": 3,
     "solution": false,
     "task": false
    }
   },
   "source": [
    "# Binary Bayes Net Inference\n",
    "\n",
    "This is a quick notebook exercise to exemplify Bayes Net (BN) inference. \n",
    "\n",
    "Consider the following BN:  \n",
    "\n",
    "![Imaginary SuperBowl Bayes Net Diagram](BN-NFL.png \"Imaginary SuperBowl Bayes Net Diagram\")\n"
   ]
  },
  {
   "cell_type": "markdown",
   "id": "be4b46ea-0dda-42a4-b843-6e0a16c9fff9",
   "metadata": {
    "deletable": false,
    "editable": false,
    "nbgrader": {
     "cell_type": "markdown",
     "checksum": "200ab4c361ba63b26f34b7ffdaa852cb",
     "grade": false,
     "grade_id": "cell-f3b6fc3b134cd864",
     "locked": true,
     "schema_version": 3,
     "solution": false,
     "task": false
    }
   },
   "source": [
    "----\n",
    "We can use the `BayesianNetwork` module from [pgmpy](https://pgmpy.org/) to construct this network:"
   ]
  },
  {
   "cell_type": "code",
   "execution_count": 2,
   "id": "6a606e2a",
   "metadata": {},
   "outputs": [
    {
     "name": "stdout",
     "output_type": "stream",
     "text": [
      "Collecting pgmpy\n",
      "  Obtaining dependency information for pgmpy from https://files.pythonhosted.org/packages/c7/e6/e451590c2341b3d59d7b613e1af80daefd9e2873f7c9ad3d498ad84e7f44/pgmpy-0.1.26-py3-none-any.whl.metadata\n",
      "  Downloading pgmpy-0.1.26-py3-none-any.whl.metadata (9.1 kB)\n",
      "Requirement already satisfied: networkx in /Users/calebschaefer/anaconda3/lib/python3.11/site-packages (from pgmpy) (3.1)\n",
      "Requirement already satisfied: numpy in /Users/calebschaefer/anaconda3/lib/python3.11/site-packages (from pgmpy) (1.24.3)\n",
      "Requirement already satisfied: scipy in /Users/calebschaefer/anaconda3/lib/python3.11/site-packages (from pgmpy) (1.10.1)\n",
      "Requirement already satisfied: scikit-learn in /Users/calebschaefer/anaconda3/lib/python3.11/site-packages (from pgmpy) (1.3.0)\n",
      "Requirement already satisfied: pandas in /Users/calebschaefer/anaconda3/lib/python3.11/site-packages (from pgmpy) (1.5.3)\n",
      "Requirement already satisfied: pyparsing in /Users/calebschaefer/anaconda3/lib/python3.11/site-packages (from pgmpy) (3.0.9)\n",
      "Requirement already satisfied: torch in /Users/calebschaefer/anaconda3/lib/python3.11/site-packages (from pgmpy) (2.2.1)\n",
      "Requirement already satisfied: statsmodels in /Users/calebschaefer/anaconda3/lib/python3.11/site-packages (from pgmpy) (0.14.0)\n",
      "Requirement already satisfied: tqdm in /Users/calebschaefer/anaconda3/lib/python3.11/site-packages (from pgmpy) (4.65.0)\n",
      "Requirement already satisfied: joblib in /Users/calebschaefer/anaconda3/lib/python3.11/site-packages (from pgmpy) (1.2.0)\n",
      "Requirement already satisfied: opt-einsum in /Users/calebschaefer/anaconda3/lib/python3.11/site-packages (from pgmpy) (3.3.0)\n",
      "Collecting xgboost (from pgmpy)\n",
      "  Obtaining dependency information for xgboost from https://files.pythonhosted.org/packages/f5/b6/653a70910739f127adffbefb688ebc22b51139292757de7c22b1e04ce792/xgboost-2.1.4-py3-none-macosx_12_0_arm64.whl.metadata\n",
      "  Downloading xgboost-2.1.4-py3-none-macosx_12_0_arm64.whl.metadata (2.1 kB)\n",
      "Collecting google-generativeai (from pgmpy)\n",
      "  Obtaining dependency information for google-generativeai from https://files.pythonhosted.org/packages/9b/b0/6c6af327a8a6ef3be6fe79be1d6f1e2914d6c363aa6b081b93396f4460a7/google_generativeai-0.8.4-py3-none-any.whl.metadata\n",
      "  Downloading google_generativeai-0.8.4-py3-none-any.whl.metadata (4.2 kB)\n",
      "Collecting google-ai-generativelanguage==0.6.15 (from google-generativeai->pgmpy)\n",
      "  Obtaining dependency information for google-ai-generativelanguage==0.6.15 from https://files.pythonhosted.org/packages/7c/a3/67b8a6ff5001a1d8864922f2d6488dc2a14367ceb651bc3f09a947f2f306/google_ai_generativelanguage-0.6.15-py3-none-any.whl.metadata\n",
      "  Downloading google_ai_generativelanguage-0.6.15-py3-none-any.whl.metadata (5.7 kB)\n",
      "Collecting google-api-core (from google-generativeai->pgmpy)\n",
      "  Obtaining dependency information for google-api-core from https://files.pythonhosted.org/packages/b1/a6/8e30ddfd3d39ee6d2c76d3d4f64a83f77ac86a4cab67b286ae35ce9e4369/google_api_core-2.24.1-py3-none-any.whl.metadata\n",
      "  Downloading google_api_core-2.24.1-py3-none-any.whl.metadata (3.0 kB)\n",
      "Collecting google-api-python-client (from google-generativeai->pgmpy)\n",
      "  Obtaining dependency information for google-api-python-client from https://files.pythonhosted.org/packages/9c/e8/ca1efe224166a4c77ac92b4314b90f2fb70fdde1f763c1613ba3b9f50752/google_api_python_client-2.161.0-py2.py3-none-any.whl.metadata\n",
      "  Downloading google_api_python_client-2.161.0-py2.py3-none-any.whl.metadata (6.7 kB)\n",
      "Collecting google-auth>=2.15.0 (from google-generativeai->pgmpy)\n",
      "  Obtaining dependency information for google-auth>=2.15.0 from https://files.pythonhosted.org/packages/9d/47/603554949a37bca5b7f894d51896a9c534b9eab808e2520a748e081669d0/google_auth-2.38.0-py2.py3-none-any.whl.metadata\n",
      "  Downloading google_auth-2.38.0-py2.py3-none-any.whl.metadata (4.8 kB)\n",
      "Requirement already satisfied: protobuf in /Users/calebschaefer/anaconda3/lib/python3.11/site-packages (from google-generativeai->pgmpy) (4.25.3)\n",
      "Collecting pydantic (from google-generativeai->pgmpy)\n",
      "  Obtaining dependency information for pydantic from https://files.pythonhosted.org/packages/f4/3c/8cc1cc84deffa6e25d2d0c688ebb80635dfdbf1dbea3e30c541c8cf4d860/pydantic-2.10.6-py3-none-any.whl.metadata\n",
      "  Downloading pydantic-2.10.6-py3-none-any.whl.metadata (30 kB)\n",
      "Requirement already satisfied: typing-extensions in /Users/calebschaefer/anaconda3/lib/python3.11/site-packages (from google-generativeai->pgmpy) (4.10.0)\n",
      "Collecting proto-plus<2.0.0dev,>=1.22.3 (from google-ai-generativelanguage==0.6.15->google-generativeai->pgmpy)\n",
      "  Obtaining dependency information for proto-plus<2.0.0dev,>=1.22.3 from https://files.pythonhosted.org/packages/42/c3/59308ccc07b34980f9d532f7afc718a9f32b40e52cde7a740df8d55632fb/proto_plus-1.26.0-py3-none-any.whl.metadata\n",
      "  Downloading proto_plus-1.26.0-py3-none-any.whl.metadata (2.2 kB)\n",
      "Requirement already satisfied: python-dateutil>=2.8.1 in /Users/calebschaefer/anaconda3/lib/python3.11/site-packages (from pandas->pgmpy) (2.8.2)\n",
      "Requirement already satisfied: pytz>=2020.1 in /Users/calebschaefer/anaconda3/lib/python3.11/site-packages (from pandas->pgmpy) (2022.7)\n",
      "Requirement already satisfied: threadpoolctl>=2.0.0 in /Users/calebschaefer/anaconda3/lib/python3.11/site-packages (from scikit-learn->pgmpy) (2.2.0)\n",
      "Requirement already satisfied: patsy>=0.5.2 in /Users/calebschaefer/anaconda3/lib/python3.11/site-packages (from statsmodels->pgmpy) (0.5.3)\n",
      "Requirement already satisfied: packaging>=21.3 in /Users/calebschaefer/anaconda3/lib/python3.11/site-packages (from statsmodels->pgmpy) (23.0)\n",
      "Requirement already satisfied: filelock in /Users/calebschaefer/anaconda3/lib/python3.11/site-packages (from torch->pgmpy) (3.9.0)\n",
      "Requirement already satisfied: sympy in /Users/calebschaefer/anaconda3/lib/python3.11/site-packages (from torch->pgmpy) (1.11.1)\n",
      "Requirement already satisfied: jinja2 in /Users/calebschaefer/anaconda3/lib/python3.11/site-packages (from torch->pgmpy) (3.1.2)\n",
      "Requirement already satisfied: fsspec in /Users/calebschaefer/anaconda3/lib/python3.11/site-packages (from torch->pgmpy) (2023.4.0)\n",
      "Collecting cachetools<6.0,>=2.0.0 (from google-auth>=2.15.0->google-generativeai->pgmpy)\n",
      "  Obtaining dependency information for cachetools<6.0,>=2.0.0 from https://files.pythonhosted.org/packages/ec/4e/de4ff18bcf55857ba18d3a4bd48c8a9fde6bb0980c9d20b263f05387fd88/cachetools-5.5.1-py3-none-any.whl.metadata\n",
      "  Downloading cachetools-5.5.1-py3-none-any.whl.metadata (5.4 kB)\n",
      "Requirement already satisfied: pyasn1-modules>=0.2.1 in /Users/calebschaefer/anaconda3/lib/python3.11/site-packages (from google-auth>=2.15.0->google-generativeai->pgmpy) (0.2.8)\n",
      "Collecting rsa<5,>=3.1.4 (from google-auth>=2.15.0->google-generativeai->pgmpy)\n",
      "  Obtaining dependency information for rsa<5,>=3.1.4 from https://files.pythonhosted.org/packages/49/97/fa78e3d2f65c02c8e1268b9aba606569fe97f6c8f7c2d74394553347c145/rsa-4.9-py3-none-any.whl.metadata\n",
      "  Downloading rsa-4.9-py3-none-any.whl.metadata (4.2 kB)\n",
      "Requirement already satisfied: six in /Users/calebschaefer/anaconda3/lib/python3.11/site-packages (from patsy>=0.5.2->statsmodels->pgmpy) (1.16.0)\n",
      "Collecting googleapis-common-protos<2.0.dev0,>=1.56.2 (from google-api-core->google-generativeai->pgmpy)\n",
      "  Obtaining dependency information for googleapis-common-protos<2.0.dev0,>=1.56.2 from https://files.pythonhosted.org/packages/89/30/2bd0eb03a7dee7727cd2ec643d1e992979e62d5e7443507381cce0455132/googleapis_common_protos-1.67.0-py2.py3-none-any.whl.metadata\n",
      "  Downloading googleapis_common_protos-1.67.0-py2.py3-none-any.whl.metadata (5.1 kB)\n",
      "Requirement already satisfied: requests<3.0.0.dev0,>=2.18.0 in /Users/calebschaefer/anaconda3/lib/python3.11/site-packages (from google-api-core->google-generativeai->pgmpy) (2.31.0)\n",
      "Collecting httplib2<1.dev0,>=0.19.0 (from google-api-python-client->google-generativeai->pgmpy)\n",
      "  Obtaining dependency information for httplib2<1.dev0,>=0.19.0 from https://files.pythonhosted.org/packages/a8/6c/d2fbdaaa5959339d53ba38e94c123e4e84b8fbc4b84beb0e70d7c1608486/httplib2-0.22.0-py3-none-any.whl.metadata\n",
      "  Downloading httplib2-0.22.0-py3-none-any.whl.metadata (2.6 kB)\n",
      "Collecting google-auth-httplib2<1.0.0,>=0.2.0 (from google-api-python-client->google-generativeai->pgmpy)\n",
      "  Obtaining dependency information for google-auth-httplib2<1.0.0,>=0.2.0 from https://files.pythonhosted.org/packages/be/8a/fe34d2f3f9470a27b01c9e76226965863f153d5fbe276f83608562e49c04/google_auth_httplib2-0.2.0-py2.py3-none-any.whl.metadata\n",
      "  Downloading google_auth_httplib2-0.2.0-py2.py3-none-any.whl.metadata (2.2 kB)\n"
     ]
    },
    {
     "name": "stdout",
     "output_type": "stream",
     "text": [
      "Collecting uritemplate<5,>=3.0.1 (from google-api-python-client->google-generativeai->pgmpy)\n",
      "  Obtaining dependency information for uritemplate<5,>=3.0.1 from https://files.pythonhosted.org/packages/81/c0/7461b49cd25aeece13766f02ee576d1db528f1c37ce69aee300e075b485b/uritemplate-4.1.1-py2.py3-none-any.whl.metadata\n",
      "  Downloading uritemplate-4.1.1-py2.py3-none-any.whl.metadata (2.9 kB)\n",
      "Requirement already satisfied: MarkupSafe>=2.0 in /Users/calebschaefer/anaconda3/lib/python3.11/site-packages (from jinja2->torch->pgmpy) (2.1.1)\n",
      "Collecting annotated-types>=0.6.0 (from pydantic->google-generativeai->pgmpy)\n",
      "  Obtaining dependency information for annotated-types>=0.6.0 from https://files.pythonhosted.org/packages/78/b6/6307fbef88d9b5ee7421e68d78a9f162e0da4900bc5f5793f6d3d0e34fb8/annotated_types-0.7.0-py3-none-any.whl.metadata\n",
      "  Downloading annotated_types-0.7.0-py3-none-any.whl.metadata (15 kB)\n",
      "Collecting pydantic-core==2.27.2 (from pydantic->google-generativeai->pgmpy)\n",
      "  Obtaining dependency information for pydantic-core==2.27.2 from https://files.pythonhosted.org/packages/9e/e3/71fe85af2021f3f386da42d291412e5baf6ce7716bd7101ea49c810eda90/pydantic_core-2.27.2-cp311-cp311-macosx_11_0_arm64.whl.metadata\n",
      "  Downloading pydantic_core-2.27.2-cp311-cp311-macosx_11_0_arm64.whl.metadata (6.6 kB)\n",
      "Collecting typing-extensions (from google-generativeai->pgmpy)\n",
      "  Obtaining dependency information for typing-extensions from https://files.pythonhosted.org/packages/26/9f/ad63fc0248c5379346306f8668cda6e2e2e9c95e01216d2b8ffd9ff037d0/typing_extensions-4.12.2-py3-none-any.whl.metadata\n",
      "  Downloading typing_extensions-4.12.2-py3-none-any.whl.metadata (3.0 kB)\n",
      "Requirement already satisfied: mpmath>=0.19 in /Users/calebschaefer/anaconda3/lib/python3.11/site-packages (from sympy->torch->pgmpy) (1.3.0)\n",
      "Requirement already satisfied: grpcio<2.0dev,>=1.33.2 in /Users/calebschaefer/anaconda3/lib/python3.11/site-packages (from google-api-core->google-generativeai->pgmpy) (1.62.1)\n",
      "Collecting grpcio-status<2.0.dev0,>=1.33.2 (from google-api-core->google-generativeai->pgmpy)\n",
      "  Obtaining dependency information for grpcio-status<2.0.dev0,>=1.33.2 from https://files.pythonhosted.org/packages/e6/34/49e558040e069feebac70cdd1b605f38738c0277ac5d38e2ce3d03e1b1ec/grpcio_status-1.70.0-py3-none-any.whl.metadata\n",
      "  Downloading grpcio_status-1.70.0-py3-none-any.whl.metadata (1.1 kB)\n",
      "Requirement already satisfied: pyasn1<0.5.0,>=0.4.6 in /Users/calebschaefer/anaconda3/lib/python3.11/site-packages (from pyasn1-modules>=0.2.1->google-auth>=2.15.0->google-generativeai->pgmpy) (0.4.8)\n",
      "Requirement already satisfied: charset-normalizer<4,>=2 in /Users/calebschaefer/anaconda3/lib/python3.11/site-packages (from requests<3.0.0.dev0,>=2.18.0->google-api-core->google-generativeai->pgmpy) (2.0.4)\n",
      "Requirement already satisfied: idna<4,>=2.5 in /Users/calebschaefer/anaconda3/lib/python3.11/site-packages (from requests<3.0.0.dev0,>=2.18.0->google-api-core->google-generativeai->pgmpy) (3.4)\n",
      "Requirement already satisfied: urllib3<3,>=1.21.1 in /Users/calebschaefer/anaconda3/lib/python3.11/site-packages (from requests<3.0.0.dev0,>=2.18.0->google-api-core->google-generativeai->pgmpy) (1.26.16)\n",
      "Requirement already satisfied: certifi>=2017.4.17 in /Users/calebschaefer/anaconda3/lib/python3.11/site-packages (from requests<3.0.0.dev0,>=2.18.0->google-api-core->google-generativeai->pgmpy) (2023.7.22)\n",
      "Collecting protobuf (from google-generativeai->pgmpy)\n",
      "  Obtaining dependency information for protobuf from https://files.pythonhosted.org/packages/dd/04/3eaedc2ba17a088961d0e3bd396eac764450f431621b58a04ce898acd126/protobuf-5.29.3-cp38-abi3-macosx_10_9_universal2.whl.metadata\n",
      "  Downloading protobuf-5.29.3-cp38-abi3-macosx_10_9_universal2.whl.metadata (592 bytes)\n",
      "Collecting grpcio<2.0dev,>=1.33.2 (from google-api-core->google-generativeai->pgmpy)\n",
      "  Obtaining dependency information for grpcio<2.0dev,>=1.33.2 from https://files.pythonhosted.org/packages/e4/bd/cc36811c582d663a740fb45edf9f99ddbd99a10b6ba38267dc925e1e193a/grpcio-1.70.0-cp311-cp311-macosx_10_14_universal2.whl.metadata\n",
      "  Downloading grpcio-1.70.0-cp311-cp311-macosx_10_14_universal2.whl.metadata (3.9 kB)\n",
      "Downloading pgmpy-0.1.26-py3-none-any.whl (2.0 MB)\n",
      "\u001b[2K   \u001b[90m━━━━━━━━━━━━━━━━━━━━━━━━━━━━━━━━━━━━━━━━\u001b[0m \u001b[32m2.0/2.0 MB\u001b[0m \u001b[31m16.4 MB/s\u001b[0m eta \u001b[36m0:00:00\u001b[0m00:01\u001b[0m00:01\u001b[0m\n",
      "\u001b[?25hDownloading google_generativeai-0.8.4-py3-none-any.whl (175 kB)\n",
      "\u001b[2K   \u001b[90m━━━━━━━━━━━━━━━━━━━━━━━━━━━━━━━━━━━━━━━━\u001b[0m \u001b[32m175.4/175.4 kB\u001b[0m \u001b[31m8.4 MB/s\u001b[0m eta \u001b[36m0:00:00\u001b[0m\n",
      "\u001b[?25hDownloading google_ai_generativelanguage-0.6.15-py3-none-any.whl (1.3 MB)\n",
      "\u001b[2K   \u001b[90m━━━━━━━━━━━━━━━━━━━━━━━━━━━━━━━━━━━━━━━━\u001b[0m \u001b[32m1.3/1.3 MB\u001b[0m \u001b[31m23.9 MB/s\u001b[0m eta \u001b[36m0:00:00\u001b[0ma \u001b[36m0:00:01\u001b[0m\n",
      "\u001b[?25hDownloading xgboost-2.1.4-py3-none-macosx_12_0_arm64.whl (1.9 MB)\n",
      "\u001b[2K   \u001b[90m━━━━━━━━━━━━━━━━━━━━━━━━━━━━━━━━━━━━━━━━\u001b[0m \u001b[32m1.9/1.9 MB\u001b[0m \u001b[31m19.7 MB/s\u001b[0m eta \u001b[36m0:00:00\u001b[0ma \u001b[36m0:00:01\u001b[0m\n",
      "\u001b[?25hDownloading google_auth-2.38.0-py2.py3-none-any.whl (210 kB)\n",
      "\u001b[2K   \u001b[90m━━━━━━━━━━━━━━━━━━━━━━━━━━━━━━━━━━━━━━━━\u001b[0m \u001b[32m210.8/210.8 kB\u001b[0m \u001b[31m12.2 MB/s\u001b[0m eta \u001b[36m0:00:00\u001b[0m\n",
      "\u001b[?25hDownloading google_api_core-2.24.1-py3-none-any.whl (160 kB)\n",
      "\u001b[2K   \u001b[90m━━━━━━━━━━━━━━━━━━━━━━━━━━━━━━━━━━━━━━━━\u001b[0m \u001b[32m160.1/160.1 kB\u001b[0m \u001b[31m8.5 MB/s\u001b[0m eta \u001b[36m0:00:00\u001b[0m\n",
      "\u001b[?25hDownloading google_api_python_client-2.161.0-py2.py3-none-any.whl (12.9 MB)\n",
      "\u001b[2K   \u001b[90m━━━━━━━━━━━━━━━━━━━━━━━━━━━━━━━━━━━━━━━━\u001b[0m \u001b[32m12.9/12.9 MB\u001b[0m \u001b[31m21.1 MB/s\u001b[0m eta \u001b[36m0:00:00\u001b[0m00:01\u001b[0m00:01\u001b[0m\n",
      "\u001b[?25hDownloading pydantic-2.10.6-py3-none-any.whl (431 kB)\n",
      "\u001b[2K   \u001b[90m━━━━━━━━━━━━━━━━━━━━━━━━━━━━━━━━━━━━━━━━\u001b[0m \u001b[32m431.7/431.7 kB\u001b[0m \u001b[31m17.0 MB/s\u001b[0m eta \u001b[36m0:00:00\u001b[0m\n",
      "\u001b[?25hDownloading pydantic_core-2.27.2-cp311-cp311-macosx_11_0_arm64.whl (1.8 MB)\n",
      "\u001b[2K   \u001b[90m━━━━━━━━━━━━━━━━━━━━━━━━━━━━━━━━━━━━━━━━\u001b[0m \u001b[32m1.8/1.8 MB\u001b[0m \u001b[31m20.9 MB/s\u001b[0m eta \u001b[36m0:00:00\u001b[0m00:01\u001b[0m00:01\u001b[0m\n",
      "\u001b[?25hUsing cached typing_extensions-4.12.2-py3-none-any.whl (37 kB)\n",
      "Downloading annotated_types-0.7.0-py3-none-any.whl (13 kB)\n",
      "Downloading cachetools-5.5.1-py3-none-any.whl (9.5 kB)\n",
      "Downloading google_auth_httplib2-0.2.0-py2.py3-none-any.whl (9.3 kB)\n",
      "Downloading googleapis_common_protos-1.67.0-py2.py3-none-any.whl (164 kB)\n",
      "\u001b[2K   \u001b[90m━━━━━━━━━━━━━━━━━━━━━━━━━━━━━━━━━━━━━━━━\u001b[0m \u001b[32m165.0/165.0 kB\u001b[0m \u001b[31m15.0 MB/s\u001b[0m eta \u001b[36m0:00:00\u001b[0m\n",
      "\u001b[?25hDownloading httplib2-0.22.0-py3-none-any.whl (96 kB)\n",
      "\u001b[2K   \u001b[90m━━━━━━━━━━━━━━━━━━━━━━━━━━━━━━━━━━━━━━━━\u001b[0m \u001b[32m96.9/96.9 kB\u001b[0m \u001b[31m10.8 MB/s\u001b[0m eta \u001b[36m0:00:00\u001b[0m\n",
      "\u001b[?25hDownloading proto_plus-1.26.0-py3-none-any.whl (50 kB)\n",
      "\u001b[2K   \u001b[90m━━━━━━━━━━━━━━━━━━━━━━━━━━━━━━━━━━━━━━━━\u001b[0m \u001b[32m50.2/50.2 kB\u001b[0m \u001b[31m6.0 MB/s\u001b[0m eta \u001b[36m0:00:00\u001b[0m\n",
      "\u001b[?25hUsing cached rsa-4.9-py3-none-any.whl (34 kB)\n",
      "Using cached uritemplate-4.1.1-py2.py3-none-any.whl (10 kB)\n",
      "Downloading grpcio_status-1.70.0-py3-none-any.whl (14 kB)\n",
      "Downloading protobuf-5.29.3-cp38-abi3-macosx_10_9_universal2.whl (417 kB)\n",
      "\u001b[2K   \u001b[90m━━━━━━━━━━━━━━━━━━━━━━━━━━━━━━━━━━━━━━━━\u001b[0m \u001b[32m417.8/417.8 kB\u001b[0m \u001b[31m25.8 MB/s\u001b[0m eta \u001b[36m0:00:00\u001b[0m\n",
      "\u001b[?25hDownloading grpcio-1.70.0-cp311-cp311-macosx_10_14_universal2.whl (11.5 MB)\n",
      "\u001b[2K   \u001b[90m━━━━━━━━━━━━━━━━━━━━━━━━━━━━━━━━━━━━━━━━\u001b[0m \u001b[32m11.5/11.5 MB\u001b[0m \u001b[31m33.0 MB/s\u001b[0m eta \u001b[36m0:00:00\u001b[0ma \u001b[36m0:00:01\u001b[0m\n",
      "\u001b[?25hInstalling collected packages: uritemplate, typing-extensions, rsa, protobuf, httplib2, grpcio, cachetools, annotated-types, xgboost, pydantic-core, proto-plus, googleapis-common-protos, google-auth, pydantic, grpcio-status, google-auth-httplib2, google-api-core, google-api-python-client, google-ai-generativelanguage, google-generativeai, pgmpy\n",
      "  Attempting uninstall: typing-extensions\n",
      "    Found existing installation: typing_extensions 4.10.0\n",
      "    Uninstalling typing_extensions-4.10.0:\n",
      "      Successfully uninstalled typing_extensions-4.10.0\n",
      "  Attempting uninstall: protobuf\n",
      "    Found existing installation: protobuf 4.25.3\n",
      "    Uninstalling protobuf-4.25.3:\n",
      "      Successfully uninstalled protobuf-4.25.3\n",
      "  Attempting uninstall: grpcio\n",
      "    Found existing installation: grpcio 1.62.1\n",
      "    Uninstalling grpcio-1.62.1:\n",
      "      Successfully uninstalled grpcio-1.62.1\n"
     ]
    },
    {
     "name": "stdout",
     "output_type": "stream",
     "text": [
      "\u001b[31mERROR: pip's dependency resolver does not currently take into account all the packages that are installed. This behaviour is the source of the following dependency conflicts.\n",
      "tensorflow 2.16.1 requires protobuf!=4.21.0,!=4.21.1,!=4.21.2,!=4.21.3,!=4.21.4,!=4.21.5,<5.0.0dev,>=3.20.3, but you have protobuf 5.29.3 which is incompatible.\u001b[0m\u001b[31m\n",
      "\u001b[0mSuccessfully installed annotated-types-0.7.0 cachetools-5.5.1 google-ai-generativelanguage-0.6.15 google-api-core-2.24.1 google-api-python-client-2.161.0 google-auth-2.38.0 google-auth-httplib2-0.2.0 google-generativeai-0.8.4 googleapis-common-protos-1.67.0 grpcio-1.70.0 grpcio-status-1.70.0 httplib2-0.22.0 pgmpy-0.1.26 proto-plus-1.26.0 protobuf-5.29.3 pydantic-2.10.6 pydantic-core-2.27.2 rsa-4.9 typing-extensions-4.12.2 uritemplate-4.1.1 xgboost-2.1.4\n",
      "Note: you may need to restart the kernel to use updated packages.\n"
     ]
    }
   ],
   "source": [
    "pip install pgmpy"
   ]
  },
  {
   "cell_type": "code",
   "execution_count": 3,
   "id": "1e439347-e929-4102-a351-e7cc7dc71c43",
   "metadata": {
    "deletable": false,
    "editable": false,
    "nbgrader": {
     "cell_type": "code",
     "checksum": "761f46b1812e406736a740632ecee20e",
     "grade": false,
     "grade_id": "cell-dacd4367ba006678",
     "locked": true,
     "schema_version": 3,
     "solution": false,
     "task": false
    }
   },
   "outputs": [],
   "source": [
    "import numpy as np\n",
    "import pandas as pd\n",
    "\n",
    "from pgmpy.models import BayesianNetwork\n",
    "from pgmpy.factors.discrete import TabularCPD"
   ]
  },
  {
   "cell_type": "code",
   "execution_count": 4,
   "id": "2448a5dc-fe99-4030-a8a4-a8eceb42767c",
   "metadata": {
    "deletable": false,
    "editable": false,
    "nbgrader": {
     "cell_type": "code",
     "checksum": "ea6114e4bd52ad109d993a4b10d56c57",
     "grade": false,
     "grade_id": "cell-3320f861c723c1b1",
     "locked": true,
     "schema_version": 3,
     "solution": false,
     "task": false
    }
   },
   "outputs": [],
   "source": [
    "# Define Bayesian Network structure\n",
    "model = BayesianNetwork([('F', 'Q'), ('F', 'D'), ('Q', 'W'), ('D', 'W')])\n",
    "\n",
    "# Define CPDs\n",
    "cpd_f = TabularCPD(variable='F', variable_card=2, values=[[0.3], [0.7]], state_names={\"F\":[\"low\", \"high\"]})\n",
    "cpd_q = TabularCPD(variable='Q', variable_card=2, values=[[0.5, 0.2], [0.5, 0.8]],\n",
    "                    evidence=['F'], evidence_card=[2], state_names={\"F\":[\"low\", \"high\"], \"Q\": [\"bad\", \"good\"]})\n",
    "cpd_d = TabularCPD(variable='D', variable_card=2, values=[[0.6, 0.3], [0.4, 0.7]],\n",
    "                    evidence=['F'], evidence_card=[2], state_names={\"F\":[\"low\", \"high\"], \"D\": [\"weak\", \"strong\"]})\n",
    "cpd_w = TabularCPD(variable='W', variable_card=2, \n",
    "                    values=[[0.30, 0.5, 0.15, 0.25], [0.70, 0.5, 0.85, 0.75]],\n",
    "                    evidence=['Q', 'D'], evidence_card=[2, 2], state_names={\"Q\":[\"bad\", \"good\"], \"D\": [\"weak\", \"strong\"], \"W\": [\"lose\", \"win\"]})\n",
    "\n",
    "# Add CPDs to model\n",
    "model.add_cpds(cpd_f, cpd_q, cpd_d, cpd_w)\n",
    "\n",
    "# Check Model\n",
    "assert model.check_model()"
   ]
  },
  {
   "cell_type": "code",
   "execution_count": 5,
   "id": "4b70d4c3-3eab-4116-b1ba-2311a78e15f7",
   "metadata": {
    "deletable": false,
    "editable": false,
    "nbgrader": {
     "cell_type": "code",
     "checksum": "71a95f2bbba3f140272466d0d6ddc6ee",
     "grade": false,
     "grade_id": "cell-a39f936e065d7815",
     "locked": true,
     "schema_version": 3,
     "solution": false,
     "task": false
    }
   },
   "outputs": [
    {
     "name": "stdout",
     "output_type": "stream",
     "text": [
      "+---------+-----+\n",
      "| F(low)  | 0.3 |\n",
      "+---------+-----+\n",
      "| F(high) | 0.7 |\n",
      "+---------+-----+\n",
      "+---------+--------+---------+\n",
      "| F       | F(low) | F(high) |\n",
      "+---------+--------+---------+\n",
      "| Q(bad)  | 0.5    | 0.2     |\n",
      "+---------+--------+---------+\n",
      "| Q(good) | 0.5    | 0.8     |\n",
      "+---------+--------+---------+\n",
      "+-----------+--------+---------+\n",
      "| F         | F(low) | F(high) |\n",
      "+-----------+--------+---------+\n",
      "| D(weak)   | 0.6    | 0.3     |\n",
      "+-----------+--------+---------+\n",
      "| D(strong) | 0.4    | 0.7     |\n",
      "+-----------+--------+---------+\n",
      "+---------+---------+-----------+---------+-----------+\n",
      "| Q       | Q(bad)  | Q(bad)    | Q(good) | Q(good)   |\n",
      "+---------+---------+-----------+---------+-----------+\n",
      "| D       | D(weak) | D(strong) | D(weak) | D(strong) |\n",
      "+---------+---------+-----------+---------+-----------+\n",
      "| W(lose) | 0.3     | 0.5       | 0.15    | 0.25      |\n",
      "+---------+---------+-----------+---------+-----------+\n",
      "| W(win)  | 0.7     | 0.5       | 0.85    | 0.75      |\n",
      "+---------+---------+-----------+---------+-----------+\n"
     ]
    }
   ],
   "source": [
    "_ = [print (cpd) for cpd in model.get_cpds()]"
   ]
  },
  {
   "cell_type": "markdown",
   "id": "bbf8b64d-626b-4054-baa1-df63212634b3",
   "metadata": {
    "deletable": false,
    "editable": false,
    "nbgrader": {
     "cell_type": "markdown",
     "checksum": "a0e401d3ff3658b5a0cd2362058a9025",
     "grade": false,
     "grade_id": "cell-ebc749500aa524bb",
     "locked": true,
     "schema_version": 3,
     "solution": false,
     "task": false
    }
   },
   "source": [
    "----\n",
    "Calculate $P(W|F=\\text{high})$"
   ]
  },
  {
   "cell_type": "markdown",
   "id": "e41e96ec-d265-47b5-a79e-ae8f260e861a",
   "metadata": {
    "deletable": false,
    "editable": false,
    "nbgrader": {
     "cell_type": "markdown",
     "checksum": "46ddb29f5e1350789178bf69146e3d91",
     "grade": false,
     "grade_id": "cell-3706f3402af1a853",
     "locked": true,
     "schema_version": 3,
     "solution": false,
     "task": false
    }
   },
   "source": [
    "$$\n",
    "\\begin{align}\n",
    "P(W|F=\\text{high}) & = \\\\\n",
    "& \\propto P(W,F=\\text{high}) \\\\\n",
    "& = \\sum_{q\\in Q,d \\in D} P(F=\\text{high}, Q, D, W) \\\\\n",
    "& = \\sum_{q,d} P(F=\\text{high})P(q|F=\\text{high})P(d|F=\\text{high})P(W|q,d) \n",
    "\\end{align}\n",
    "$$"
   ]
  },
  {
   "cell_type": "code",
   "execution_count": 1,
   "id": "eb05868c-850b-42a8-b0eb-8fc1e693ca5d",
   "metadata": {
    "deletable": false,
    "nbgrader": {
     "cell_type": "code",
     "checksum": "56182cd722ee289af7080e889cd1852c",
     "grade": false,
     "grade_id": "cell-fc5edf8273348150",
     "locked": false,
     "schema_version": 3,
     "solution": true,
     "task": false
    }
   },
   "outputs": [
    {
     "name": "stdout",
     "output_type": "stream",
     "text": [
      "0.5152\n",
      "0.18479999999999996\n"
     ]
    }
   ],
   "source": [
    "P_w = None\n",
    "\n",
    "# Calcuate the probabiity of winning and losing \n",
    "# and put it in a the P_w variable\n",
    "\n",
    "# YOUR CODE HERE\n",
    "P_w = (.7 * .2 * .3 * .7) + (.7 * .2 * .7 * .5)  + (.7 * .8 * .3 * .85) + (.7 * .8 * .7 * .75)\n",
    "\n",
    "P_L = (.7 * .2 * .3 * .3) + (.7 * .2 * .7 * .5) + (.7 * .8 * .3 * .15) + (.7 * .8 * .7 * .25)\n",
    "\n",
    "print(P_w)\n",
    "print(P_L)\n",
    "#ans should be [.736, .26]"
   ]
  },
  {
   "cell_type": "code",
   "execution_count": null,
   "id": "db1aaf40-96bb-4ae5-b113-ad757b72a511",
   "metadata": {
    "deletable": false,
    "editable": false,
    "nbgrader": {
     "cell_type": "code",
     "checksum": "a2a494cf82d0bc4ea1280c4f577b651b",
     "grade": true,
     "grade_id": "cell-aa23a87e0230bc4c",
     "locked": true,
     "points": 9,
     "schema_version": 3,
     "solution": false,
     "task": false
    }
   },
   "outputs": [],
   "source": [
    "# This cell intentionaly left empty\n"
   ]
  },
  {
   "cell_type": "markdown",
   "id": "706e7148-9deb-442a-8041-b2b83a6f0d62",
   "metadata": {
    "deletable": false,
    "editable": false,
    "nbgrader": {
     "cell_type": "markdown",
     "checksum": "0295d42f9ff99d6d6194593b576c3f34",
     "grade": false,
     "grade_id": "cell-c93f77f7c03800fb",
     "locked": true,
     "schema_version": 3,
     "solution": false,
     "task": false
    }
   },
   "source": [
    "----\n",
    "Then we can use Variable Elimination to do the same inference. \n",
    "\n",
    "Variable Elimination is based on the following insight:\n",
    "\n",
    "$$\n",
    "\\begin{align}\n",
    "& \\sum_{q,d} P(F=\\text{high})P(q|F=\\text{high})P(d|F=\\text{high})P(W|q,d) \\\\\n",
    "& = P(F=\\text{high}) \\sum_{q,d} P(q|F=\\text{high})P(d|F=\\text{high})P(W|q,d) \\\\\n",
    "& = P(F=\\text{high}) \\sum_{q} P(q|F=\\text{high})\\sum_{d}P(d|F=\\text{high})P(W|q,d) \\\\\n",
    "\\end{align}\n",
    "$$"
   ]
  },
  {
   "cell_type": "markdown",
   "id": "f4d1c48e-a8d2-42fb-9a91-85e8f7ba4737",
   "metadata": {
    "deletable": false,
    "editable": false,
    "nbgrader": {
     "cell_type": "markdown",
     "checksum": "4d1cdfe026c046a1f79014c1da941762",
     "grade": false,
     "grade_id": "cell-5a61430bf8b1618e",
     "locked": true,
     "schema_version": 3,
     "solution": false,
     "task": false
    }
   },
   "source": [
    "----\n",
    "\n",
    "Now use the `VariabeElimination` functionalityin `pgmpy` to calcuate the same probability.\n"
   ]
  },
  {
   "cell_type": "code",
   "execution_count": null,
   "id": "9d4aa580-d26d-49c0-9941-3d7b847dd654",
   "metadata": {
    "deletable": false,
    "nbgrader": {
     "cell_type": "code",
     "checksum": "242af8e39a979656bab52a58539e4a76",
     "grade": true,
     "grade_id": "cell-38c30eb4cf53462c",
     "locked": false,
     "points": 1,
     "schema_version": 3,
     "solution": true,
     "task": false
    }
   },
   "outputs": [],
   "source": [
    "# YOUR CODE HERE\n",
    "raise NotImplementedError()"
   ]
  },
  {
   "cell_type": "markdown",
   "id": "fa3efc3f-2a92-42a2-947d-dfd0608715ce",
   "metadata": {
    "deletable": false,
    "editable": false,
    "nbgrader": {
     "cell_type": "markdown",
     "checksum": "b141eae245f03450d4bb8818ed8eca19",
     "grade": false,
     "grade_id": "cell-e634ad84d3fcefce",
     "locked": true,
     "schema_version": 3,
     "solution": false,
     "task": false
    }
   },
   "source": [
    "----\n",
    "Here's a more complex example, using the indurance BN:"
   ]
  },
  {
   "cell_type": "code",
   "execution_count": null,
   "id": "5384925d-5c26-4273-ae6f-be97e7b21e50",
   "metadata": {
    "deletable": false,
    "editable": false,
    "nbgrader": {
     "cell_type": "code",
     "checksum": "375c701ce39ae3857d3e8aa503b5f38f",
     "grade": false,
     "grade_id": "cell-b3130de225e7c8bb",
     "locked": true,
     "schema_version": 3,
     "solution": false,
     "task": false
    }
   },
   "outputs": [],
   "source": [
    "from pgmpy.utils import get_example_model\n",
    "\n",
    "model = get_example_model('insurance')\n",
    "model.get_cardinality()"
   ]
  },
  {
   "cell_type": "code",
   "execution_count": null,
   "id": "5dc4e7b2-5292-4a01-aee7-1394e177a35a",
   "metadata": {
    "deletable": false,
    "editable": false,
    "nbgrader": {
     "cell_type": "code",
     "checksum": "1e6e5883726d0f49f49b5a3daa6ccc37",
     "grade": false,
     "grade_id": "cell-5cd13edc4e63bb76",
     "locked": true,
     "schema_version": 3,
     "solution": false,
     "task": false
    }
   },
   "outputs": [],
   "source": [
    "print(model.get_cpds(node=\"Age\"))"
   ]
  },
  {
   "cell_type": "code",
   "execution_count": null,
   "id": "8e3b83c3-aea9-4fb0-9875-dc3663f6c33d",
   "metadata": {
    "deletable": false,
    "editable": false,
    "nbgrader": {
     "cell_type": "code",
     "checksum": "8c77507bc9bb893208d82c2e4eda3967",
     "grade": false,
     "grade_id": "cell-d75184e11ae56cc9",
     "locked": true,
     "schema_version": 3,
     "solution": false,
     "task": false
    }
   },
   "outputs": [],
   "source": [
    "print(model.get_cpds(node=\"DrivQuality\"))"
   ]
  },
  {
   "cell_type": "markdown",
   "id": "ced2f8ce-0749-425c-87e1-9b56cb1fbe69",
   "metadata": {
    "deletable": false,
    "editable": false,
    "nbgrader": {
     "cell_type": "markdown",
     "checksum": "0a864a6eaddc02d62def6d0fc79728d8",
     "grade": false,
     "grade_id": "cell-4f13904ae75c6e1b",
     "locked": true,
     "schema_version": 3,
     "solution": false,
     "task": false
    }
   },
   "source": [
    "Can you calculate the probability of `DrivQuality` given `Age` for both `Adolescent` and `Senior` values of `Age`? "
   ]
  },
  {
   "cell_type": "code",
   "execution_count": null,
   "id": "2d670eac-b11a-4410-96ca-59d07adf960f",
   "metadata": {
    "deletable": false,
    "nbgrader": {
     "cell_type": "code",
     "checksum": "a9994a85b3b4e1ba5365a77f151cccf7",
     "grade": true,
     "grade_id": "cell-d186569a449624ec",
     "locked": false,
     "points": 1,
     "schema_version": 3,
     "solution": true,
     "task": false
    }
   },
   "outputs": [],
   "source": [
    "# YOUR CODE HERE\n",
    "raise NotImplementedError()"
   ]
  }
 ],
 "metadata": {
  "kernelspec": {
   "display_name": "Python 3 (ipykernel)",
   "language": "python",
   "name": "python3"
  },
  "language_info": {
   "codemirror_mode": {
    "name": "ipython",
    "version": 3
   },
   "file_extension": ".py",
   "mimetype": "text/x-python",
   "name": "python",
   "nbconvert_exporter": "python",
   "pygments_lexer": "ipython3",
   "version": "3.11.4"
  }
 },
 "nbformat": 4,
 "nbformat_minor": 5
}
